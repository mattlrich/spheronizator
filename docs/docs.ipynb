{
 "cells": [
  {
   "cell_type": "markdown",
   "id": "1f90543c-2ec1-4dfe-8cbc-2ab101b84e84",
   "metadata": {},
   "source": [
    "# Spheronizator Documentation"
   ]
  },
  {
   "cell_type": "markdown",
   "id": "78b1c1f5-5f68-4c45-88e4-8f17dfcdbe76",
   "metadata": {},
   "source": [
    "## Getting Started\n",
    "Using the code should be straightforward as I've designed the interface to work nicely with the IPython interpreter, either standalone or in Jupyter.\n",
    "\n",
    "### Installation\n",
    "There are a number of ways you could go about installing and using this package. As this package is currently in the process of being published, and information may change, please refer to installation documentation elsewhere in the repository.\n",
    "\n",
    "A sensible way to use this package is to create a conda environment for it, then install the package to that conda environment with a package manager of your choice.\n"
   ]
  },
  {
   "cell_type": "markdown",
   "id": "85ae5bc2-cd5a-4348-a2ec-37a8f0ccb7c7",
   "metadata": {
    "tags": []
   },
   "source": [
    "## Importing\n",
    "First create your Jupyter notebook and import the package.\n",
    "```\n",
    "import spheronizator as sp\n",
    "```\n",
    "This allows you to create instances of the voxelBuilder class, which is the heart of the package.\n",
    "\n",
    "As an example, create a new voxelBuilder object called *x*.\n",
    "```\n",
    "x=sp.voxelBuilder()\n",
    "```"
   ]
  },
  {
   "cell_type": "code",
   "execution_count": 2,
   "id": "c8b14db5-8a5c-4064-9aac-adedb4f541f1",
   "metadata": {
    "tags": []
   },
   "outputs": [
    {
     "name": "stdout",
     "output_type": "stream",
     "text": [
      "Configation file was unable to be parsed, applying defaults.\n"
     ]
    }
   ],
   "source": [
    "import spheronizator as sp\n",
    "x=sp.voxelBuilder()"
   ]
  },
  {
   "cell_type": "markdown",
   "id": "85f78a29-f35d-4596-b318-d3461ff1abef",
   "metadata": {},
   "source": [
    "## Configuration\n",
    "\n",
    "### Config File\n",
    "\n",
    "When you call a new instance of the voxelBuilder class, it accepts 1 argument, *config*, which is the path to an optional configuration file. This file stores the default configuration and one is provided to you in the directory to work with. The argument allows you to specify a different configuration file.\n",
    "\n",
    "```\n",
    "x=sp.voxelBuilder(~/path/to/config/testing.config)\n",
    "```\n",
    "\n",
    "### Config Attributes\n",
    "\n",
    "Optionally, you can update the settings by changing the objects attributes on-the-fly. It's not necessary to change or load different configation files every time.\n",
    "\n",
    "```\n",
    "x.boxSize=20\n",
    "x.voxelSpacing=1\n",
    "x.useFloatVoxels=True\n",
    "```"
   ]
  },
  {
   "cell_type": "code",
   "execution_count": 3,
   "id": "a3c1f81a-3609-451a-b389-0162bcd7f13d",
   "metadata": {
    "tags": []
   },
   "outputs": [
    {
     "data": {
      "text/plain": [
       "20"
      ]
     },
     "execution_count": 3,
     "metadata": {},
     "output_type": "execute_result"
    }
   ],
   "source": [
    "x.boxSize"
   ]
  },
  {
   "cell_type": "code",
   "execution_count": 4,
   "id": "27c016a7-92b3-450a-a157-4952db72c239",
   "metadata": {
    "tags": []
   },
   "outputs": [
    {
     "data": {
      "text/plain": [
       "30"
      ]
     },
     "execution_count": 4,
     "metadata": {},
     "output_type": "execute_result"
    }
   ],
   "source": [
    "x.boxSize=30\n",
    "x.boxSize"
   ]
  },
  {
   "cell_type": "markdown",
   "id": "82489d6a-fdf9-48bf-bac2-eb9c730366b8",
   "metadata": {},
   "source": [
    "## Loading Protein Data\n",
    "\n",
    "To load protein data, you will need to parse both a PDB and corresponding mol2 file. Parsing of both of these file types is handled separately by the mol2parser class which can be found in *mol2parser.py*.\n",
    "\n",
    "To simplify the interface of this project, a wrapper for the mol2parser class is included as a method for the voxelBuilder class. This method prevents you from needing to interact with the mol2parser class at all; however, the mol2parser class can be used as a standalone parser for other projects if needed.\n",
    "\n",
    "### Using the wrapper\n",
    "\n",
    "Using the parser method is simple. Simply call this method with 1 argument specifying the path to a PDB file:\n",
    "\n",
    "```\n",
    "x.parse('testing_set/1YU6_C.pdb')\n",
    "```\n",
    "\n",
    "By default, the parser looks in the same directory for the corresponding mol2 file. The mol2 file must have the same name, plus the extension *.mol2*. This way you won't need to specify both PBD and mol2 files, just the PDB file if they follow this naming scheme.\n",
    "\n",
    "If needed, a second argument specifies the corresponding mol2 file:\n",
    "\n",
    "```\n",
    "x.parse('testing_set/1YU6_C.pdb', 'testing_set/1YU6_C.pdb.mol2')\n",
    "```\n",
    "\n",
    "### Parsing Details\n",
    "The parser will parse the specified PDB file and from it extract a list of atom objects. The parser then parses the corresponding mol2 file and updates the atom objects with additional data. The residues and atom objects are then all stored as attributes of the voxelBuilder class.\n",
    "\n",
    "```\n",
    "x.structure\n",
    "x.residues\n",
    "x.atoms\n",
    "x.resnames\n",
    "```"
   ]
  },
  {
   "cell_type": "code",
   "execution_count": 5,
   "id": "1142f073-2b01-4a67-bd99-b2e8d89e0fc8",
   "metadata": {
    "tags": []
   },
   "outputs": [],
   "source": [
    "x.parse('../testing_set/1YU6_C.pdb')"
   ]
  },
  {
   "cell_type": "code",
   "execution_count": 6,
   "id": "e32f2196-e71c-4487-9aba-745bbcca0ef8",
   "metadata": {
    "tags": []
   },
   "outputs": [
    {
     "data": {
      "text/plain": [
       "<Structure id=../testing_set/1YU6_C.pdb>"
      ]
     },
     "execution_count": 6,
     "metadata": {},
     "output_type": "execute_result"
    }
   ],
   "source": [
    "x.structure"
   ]
  },
  {
   "cell_type": "code",
   "execution_count": 7,
   "id": "bb2939c7-155e-4593-9284-0d3ef8418e88",
   "metadata": {
    "tags": []
   },
   "outputs": [
    {
     "data": {
      "text/plain": [
       "<Residue VAL het=  resseq=6 icode= >"
      ]
     },
     "execution_count": 7,
     "metadata": {},
     "output_type": "execute_result"
    }
   ],
   "source": [
    "x.residues[0]"
   ]
  },
  {
   "cell_type": "code",
   "execution_count": 8,
   "id": "af80da90-eee8-4d9b-8aa6-048b72e6489c",
   "metadata": {
    "tags": []
   },
   "outputs": [
    {
     "data": {
      "text/plain": [
       "<Atom N>"
      ]
     },
     "execution_count": 8,
     "metadata": {},
     "output_type": "execute_result"
    }
   ],
   "source": [
    "x.atoms[0]"
   ]
  },
  {
   "cell_type": "code",
   "execution_count": 9,
   "id": "57cbe26c-565f-4cd7-902e-62d8778aeabf",
   "metadata": {
    "tags": []
   },
   "outputs": [
    {
     "data": {
      "text/plain": [
       "<Vector 17.03, 9.60, 37.84>"
      ]
     },
     "execution_count": 9,
     "metadata": {},
     "output_type": "execute_result"
    }
   ],
   "source": [
    "x.atoms[0].get_vector()"
   ]
  },
  {
   "cell_type": "code",
   "execution_count": 10,
   "id": "98750a2e-9624-4204-91d2-ecc7c0d7e327",
   "metadata": {
    "tags": []
   },
   "outputs": [
    {
     "data": {
      "text/plain": [
       "'VAL'"
      ]
     },
     "execution_count": 10,
     "metadata": {},
     "output_type": "execute_result"
    }
   ],
   "source": [
    "x.resnames[0]"
   ]
  },
  {
   "cell_type": "markdown",
   "id": "6389f88a-950a-4f54-b2c7-aaa6356e683d",
   "metadata": {},
   "source": [
    "### Atom Objects\n",
    "Biopython atom objects are the core data type for this project. You can learn more about Biopython atom objects by reading the Biopython documentation. The attributes of each Biopython atom object are updated with data extracted from the associated mol2file. A list of these attributes follows.\n",
    "\n",
    "```\n",
    "atom.bondData\n",
    "atom.isAA\n",
    "atom.detailedAtomType\n",
    "atom.atomType\n",
    "atom.residueIndex\n",
    "atom.mol2atomIndex\n",
    "```"
   ]
  },
  {
   "cell_type": "code",
   "execution_count": 11,
   "id": "dbce9bdc-867c-4c88-8982-45cc63b29d45",
   "metadata": {
    "tags": []
   },
   "outputs": [
    {
     "data": {
      "text/plain": [
       "[[1, '1']]"
      ]
     },
     "execution_count": 11,
     "metadata": {},
     "output_type": "execute_result"
    }
   ],
   "source": [
    "x.atoms[0].bondData"
   ]
  },
  {
   "cell_type": "code",
   "execution_count": 12,
   "id": "f5a1e65c-6042-4499-9735-c50e78e87a50",
   "metadata": {
    "tags": []
   },
   "outputs": [
    {
     "data": {
      "text/plain": [
       "True"
      ]
     },
     "execution_count": 12,
     "metadata": {},
     "output_type": "execute_result"
    }
   ],
   "source": [
    "x.atoms[0].isAA"
   ]
  },
  {
   "cell_type": "code",
   "execution_count": 13,
   "id": "3791b1da-d319-4179-9496-51323527f605",
   "metadata": {
    "tags": []
   },
   "outputs": [
    {
     "data": {
      "text/plain": [
       "'N.3'"
      ]
     },
     "execution_count": 13,
     "metadata": {},
     "output_type": "execute_result"
    }
   ],
   "source": [
    "x.atoms[0].detailedAtomType"
   ]
  },
  {
   "cell_type": "code",
   "execution_count": 14,
   "id": "6c518810-1a81-49d6-abae-466164a60143",
   "metadata": {
    "tags": []
   },
   "outputs": [
    {
     "data": {
      "text/plain": [
       "'N'"
      ]
     },
     "execution_count": 14,
     "metadata": {},
     "output_type": "execute_result"
    }
   ],
   "source": [
    "x.atoms[0].atomType"
   ]
  },
  {
   "cell_type": "code",
   "execution_count": 15,
   "id": "a94ddc63-7ff9-4716-9786-01fe060d7353",
   "metadata": {
    "tags": []
   },
   "outputs": [
    {
     "data": {
      "text/plain": [
       "0"
      ]
     },
     "execution_count": 15,
     "metadata": {},
     "output_type": "execute_result"
    }
   ],
   "source": [
    "x.atoms[0].residueIndex"
   ]
  },
  {
   "cell_type": "code",
   "execution_count": 16,
   "id": "45c1a8dd-5359-48e5-a89a-48623d16359d",
   "metadata": {
    "tags": []
   },
   "outputs": [
    {
     "data": {
      "text/plain": [
       "0"
      ]
     },
     "execution_count": 16,
     "metadata": {},
     "output_type": "execute_result"
    }
   ],
   "source": [
    "x.atoms[0].mol2atomIndex"
   ]
  },
  {
   "cell_type": "markdown",
   "id": "7e9df688-66cb-4984-847d-7fa60e805ea4",
   "metadata": {},
   "source": [
    "## Building Boxes\n",
    "Building the boxes is as simply as invoking the voxelBuilder.buildData method as follows. This presupposes that the data has already been parsed. This method, in order:\n",
    "1. Generates the voxels that we will need the boxes based on the configuration parameters boxSize and voxelSpacing. The voxels are not unique to each box, so the same voxel array is used for all residues in the protein. The generated voxels can be found under the attribute *voxelBuilder.voxels*.\n",
    "2. Initializes numpy arrays of zeros for our output data with the appropriate shape. Currently two arrays are created:\n",
    "    - *voxelBuilder.output* for atom presence / abscence\n",
    "    - *voxelBuilder.outputBonds* for count of bonds within each box\n",
    "3. Iterates through each residue computing a box for each and updating the output arrays."
   ]
  },
  {
   "cell_type": "code",
   "execution_count": 17,
   "id": "4ed572f1-d9b3-47d7-95d4-182a9dedc093",
   "metadata": {
    "tags": []
   },
   "outputs": [
    {
     "name": "stdout",
     "output_type": "stream",
     "text": [
      "Warning: Atom collision at index (21, 26, 18, 27, 1) by atom with index 221.\n",
      "Warning: Atom collision at index (31, 13, 12, 11, 1) by atom with index 202.\n"
     ]
    }
   ],
   "source": [
    "x.buildData()"
   ]
  },
  {
   "cell_type": "code",
   "execution_count": 18,
   "id": "d88b1d78-63d7-483a-abbe-49571f85f369",
   "metadata": {
    "tags": []
   },
   "outputs": [
    {
     "data": {
      "text/plain": [
       "array([[-15., -15., -15.],\n",
       "       [-15., -15., -14.],\n",
       "       [-15., -15., -13.],\n",
       "       [-15., -15., -12.],\n",
       "       [-15., -15., -11.],\n",
       "       [-15., -15., -10.],\n",
       "       [-15., -15.,  -9.],\n",
       "       [-15., -15.,  -8.],\n",
       "       [-15., -15.,  -7.],\n",
       "       [-15., -15.,  -6.],\n",
       "       [-15., -15.,  -5.],\n",
       "       [-15., -15.,  -4.],\n",
       "       [-15., -15.,  -3.],\n",
       "       [-15., -15.,  -2.],\n",
       "       [-15., -15.,  -1.],\n",
       "       [-15., -15.,   0.],\n",
       "       [-15., -15.,   1.],\n",
       "       [-15., -15.,   2.],\n",
       "       [-15., -15.,   3.],\n",
       "       [-15., -15.,   4.],\n",
       "       [-15., -15.,   5.],\n",
       "       [-15., -15.,   6.],\n",
       "       [-15., -15.,   7.],\n",
       "       [-15., -15.,   8.],\n",
       "       [-15., -15.,   9.],\n",
       "       [-15., -15.,  10.],\n",
       "       [-15., -15.,  11.],\n",
       "       [-15., -15.,  12.],\n",
       "       [-15., -15.,  13.],\n",
       "       [-15., -15.,  14.],\n",
       "       [-15., -15.,  15.]])"
      ]
     },
     "execution_count": 18,
     "metadata": {},
     "output_type": "execute_result"
    }
   ],
   "source": [
    "x.voxels[0][0]"
   ]
  },
  {
   "cell_type": "markdown",
   "id": "ee67f03c-537e-4bc3-8cd5-da60beb37b49",
   "metadata": {},
   "source": [
    "*for boxes with a size of 30 in units of 1, you can see it scanning through the z dimension from -15 to 15 including the origin*"
   ]
  },
  {
   "cell_type": "code",
   "execution_count": 19,
   "id": "2132e8b7-430e-421e-a92b-823340b71468",
   "metadata": {
    "tags": []
   },
   "outputs": [
    {
     "data": {
      "text/plain": [
       "(51, 31, 31, 31, 6, 2)"
      ]
     },
     "execution_count": 19,
     "metadata": {},
     "output_type": "execute_result"
    }
   ],
   "source": [
    "x.output.shape"
   ]
  },
  {
   "cell_type": "code",
   "execution_count": 20,
   "id": "78bff318-d7fe-4c48-8b50-b644b82c5843",
   "metadata": {
    "tags": []
   },
   "outputs": [
    {
     "data": {
      "text/plain": [
       "(51, 5)"
      ]
     },
     "execution_count": 20,
     "metadata": {},
     "output_type": "execute_result"
    }
   ],
   "source": [
    "x.outputBonds.shape"
   ]
  },
  {
   "cell_type": "markdown",
   "id": "1e32f4d5-1bda-4b35-b1b9-a8cde1d0fa8e",
   "metadata": {},
   "source": [
    "For fun, lets use the private methods to find where our last atom is located in the output array."
   ]
  },
  {
   "cell_type": "code",
   "execution_count": 21,
   "id": "18f7dd1d-d5c6-43de-8ffe-fa645ad16465",
   "metadata": {
    "tags": []
   },
   "outputs": [
    {
     "data": {
      "text/plain": [
       "<Atom OXT>"
      ]
     },
     "execution_count": 21,
     "metadata": {},
     "output_type": "execute_result"
    }
   ],
   "source": [
    "x.atoms[-1]"
   ]
  },
  {
   "cell_type": "code",
   "execution_count": 22,
   "id": "84394266-877d-41e3-a0d2-4c64beba4077",
   "metadata": {
    "tags": []
   },
   "outputs": [
    {
     "data": {
      "text/plain": [
       "<Vector 13.72, 24.93, 28.44>"
      ]
     },
     "execution_count": 22,
     "metadata": {},
     "output_type": "execute_result"
    }
   ],
   "source": [
    "x.atoms[-1].get_vector()"
   ]
  },
  {
   "cell_type": "code",
   "execution_count": 23,
   "id": "001c877f-1cac-4fd9-b867-fb19f8106df9",
   "metadata": {
    "tags": []
   },
   "outputs": [
    {
     "data": {
      "text/plain": [
       "50"
      ]
     },
     "execution_count": 23,
     "metadata": {},
     "output_type": "execute_result"
    }
   ],
   "source": [
    "x.atoms[-1].residueIndex"
   ]
  },
  {
   "cell_type": "markdown",
   "id": "97d82c5b-4942-4763-b337-41f178365ece",
   "metadata": {},
   "source": [
    "We see that the last atom, OXT, belongs to residue number 50. Let's assume it's within the box for residue 50."
   ]
  },
  {
   "cell_type": "code",
   "execution_count": 24,
   "id": "a01c6482-725d-4a9e-9662-717750136a64",
   "metadata": {
    "tags": []
   },
   "outputs": [],
   "source": [
    "foundAtomIndices, projectedCoords=x._build_box(x.residues[50])"
   ]
  },
  {
   "cell_type": "code",
   "execution_count": 25,
   "id": "f276ce62-2e58-40b0-8dbd-e5ec0314d791",
   "metadata": {
    "tags": []
   },
   "outputs": [
    {
     "data": {
      "text/plain": [
       "387"
      ]
     },
     "execution_count": 25,
     "metadata": {},
     "output_type": "execute_result"
    }
   ],
   "source": [
    "len(x.atoms)"
   ]
  },
  {
   "cell_type": "code",
   "execution_count": 26,
   "id": "e2d6e8dd-4a9c-410e-97cc-e8a132b55cc0",
   "metadata": {
    "tags": []
   },
   "outputs": [
    {
     "name": "stdout",
     "output_type": "stream",
     "text": [
      "True\n"
     ]
    }
   ],
   "source": [
    "if 386 in foundAtomIndices:\n",
    "    print(\"True\")"
   ]
  },
  {
   "cell_type": "markdown",
   "id": "595719e7-9920-463b-870c-b52a8c8b1d41",
   "metadata": {},
   "source": [
    "Turns out it is within that box, a good guess."
   ]
  },
  {
   "cell_type": "code",
   "execution_count": 27,
   "id": "66456125-4ec3-4ab8-a485-54e5593a76ed",
   "metadata": {
    "tags": []
   },
   "outputs": [
    {
     "data": {
      "text/plain": [
       "247"
      ]
     },
     "execution_count": 27,
     "metadata": {},
     "output_type": "execute_result"
    }
   ],
   "source": [
    "len(foundAtomIndices)"
   ]
  },
  {
   "cell_type": "code",
   "execution_count": 28,
   "id": "9e29b9ed-05db-47fd-b75d-29db4b51df76",
   "metadata": {
    "tags": []
   },
   "outputs": [
    {
     "data": {
      "text/plain": [
       "array([-1.66864626,  1.59396444, -0.45076026])"
      ]
     },
     "execution_count": 28,
     "metadata": {},
     "output_type": "execute_result"
    }
   ],
   "source": [
    "projectedCoords[-1]"
   ]
  },
  {
   "cell_type": "markdown",
   "id": "e188ba4d-7a93-4e57-81fd-3e18a61b895d",
   "metadata": {},
   "source": [
    "So it looks like this OXT atom is pretty close to the center of the box. Let's find what the closest voxel is to that and it's index and see if it all checks out."
   ]
  },
  {
   "cell_type": "code",
   "execution_count": 29,
   "id": "9ae33d28-f123-4d08-9db8-a99c0fa87a73",
   "metadata": {
    "tags": []
   },
   "outputs": [],
   "source": [
    "from spheronizator import functions as box\n",
    "voxelIndex, voxelCoords=box.get_closestVoxel(projectedCoords[-1], x.voxels)"
   ]
  },
  {
   "cell_type": "code",
   "execution_count": 30,
   "id": "54cc2f82-4954-4bff-b270-cc7ecf7a16b5",
   "metadata": {
    "tags": []
   },
   "outputs": [
    {
     "data": {
      "text/plain": [
       "(13, 17, 15)"
      ]
     },
     "execution_count": 30,
     "metadata": {},
     "output_type": "execute_result"
    }
   ],
   "source": [
    "voxelIndex"
   ]
  },
  {
   "cell_type": "code",
   "execution_count": 31,
   "id": "a946d187-93c9-491d-b58d-7d80e1f7e315",
   "metadata": {
    "tags": []
   },
   "outputs": [
    {
     "data": {
      "text/plain": [
       "array([-2.,  2.,  0.])"
      ]
     },
     "execution_count": 31,
     "metadata": {},
     "output_type": "execute_result"
    }
   ],
   "source": [
    "voxelCoords"
   ]
  },
  {
   "cell_type": "code",
   "execution_count": 32,
   "id": "df440e27-9bbe-4c65-87cf-6bbde777a796",
   "metadata": {
    "tags": []
   },
   "outputs": [
    {
     "data": {
      "text/plain": [
       "'O'"
      ]
     },
     "execution_count": 32,
     "metadata": {},
     "output_type": "execute_result"
    }
   ],
   "source": [
    "x.atoms[-1].atomType"
   ]
  },
  {
   "cell_type": "markdown",
   "id": "aae734c7-3680-42c1-ab94-b3cb4ea06a43",
   "metadata": {},
   "source": [
    "We should see this Oxygen in our output array at this index position for the 50th residue. Let's check!"
   ]
  },
  {
   "cell_type": "code",
   "execution_count": 33,
   "id": "6d622cb2-d758-463e-9d72-03930128de91",
   "metadata": {
    "tags": []
   },
   "outputs": [
    {
     "data": {
      "text/plain": [
       "array([[False, False],\n",
       "       [False, False],\n",
       "       [False, False],\n",
       "       [ True,  True],\n",
       "       [False, False],\n",
       "       [False, False]])"
      ]
     },
     "execution_count": 33,
     "metadata": {},
     "output_type": "execute_result"
    }
   ],
   "source": [
    "x.output[50][13][17][15]"
   ]
  },
  {
   "cell_type": "markdown",
   "id": "c2032625-b2cf-40fc-815b-b37545546244",
   "metadata": {},
   "source": [
    "Indeed, Oxygens are in our 4th channel at index 3 and because this Oxygen belongs to the the box of its parent residue, it shows up as a -1."
   ]
  },
  {
   "cell_type": "code",
   "execution_count": 34,
   "id": "cf15a18b-e388-4b5d-affd-4a1aee0db41c",
   "metadata": {
    "tags": []
   },
   "outputs": [
    {
     "data": {
      "text/plain": [
       "array([142,  34,   0,  35,  33])"
      ]
     },
     "execution_count": 34,
     "metadata": {},
     "output_type": "execute_result"
    }
   ],
   "source": [
    "x.outputBonds[50]"
   ]
  },
  {
   "cell_type": "code",
   "execution_count": null,
   "id": "0ad32d69-e57d-4b43-905a-0deab30b3889",
   "metadata": {},
   "outputs": [],
   "source": []
  }
 ],
 "metadata": {
  "kernelspec": {
   "display_name": "spheronizator",
   "language": "python",
   "name": "spheronizator"
  },
  "language_info": {
   "codemirror_mode": {
    "name": "ipython",
    "version": 3
   },
   "file_extension": ".py",
   "mimetype": "text/x-python",
   "name": "python",
   "nbconvert_exporter": "python",
   "pygments_lexer": "ipython3",
   "version": "3.13.5"
  }
 },
 "nbformat": 4,
 "nbformat_minor": 5
}
